{
 "cells": [
  {
   "cell_type": "code",
   "execution_count": 1,
   "metadata": {},
   "outputs": [],
   "source": [
    "import sys\n",
    "import requests\n",
    "import json"
   ]
  },
  {
   "cell_type": "code",
   "execution_count": 2,
   "metadata": {},
   "outputs": [],
   "source": [
    "endpoint_url = \"https://query.wikidata.org/sparql\""
   ]
  },
  {
   "cell_type": "code",
   "execution_count": 3,
   "metadata": {},
   "outputs": [],
   "source": [
    "def get_results_requests(endpoint_url, query):\n",
    "    user_agent = \"WDQS-example Python/%s.%s\" % (sys.version_info[0], sys.version_info[1])\n",
    "    # TODO adjust user agent; see https://w.wiki/CX6\n",
    "    r = requests.get(endpoint_url, params = {'format': 'json', 'query': query}, headers = {'User-Agent': user_agent})\n",
    "    data = r.json()\n",
    "    return data"
   ]
  },
  {
   "cell_type": "code",
   "execution_count": 4,
   "metadata": {},
   "outputs": [],
   "source": [
    "query = \"\"\"SELECT ?wdLabel ?ps_Label ?wdpqLabel ?pq_Label {\n",
    "      VALUES (?company) {(wd:Q76)}\n",
    "\n",
    "      ?company ?p ?statement .\n",
    "      ?statement ?ps ?ps_ .\n",
    "\n",
    "      ?wd wikibase:claim ?p.\n",
    "      ?wd wikibase:statementProperty ?ps.\n",
    "\n",
    "      OPTIONAL {\n",
    "      ?statement ?pq ?pq_ .\n",
    "      ?wdpq wikibase:qualifier ?pq .\n",
    "      }\n",
    "\n",
    "      SERVICE wikibase:label { bd:serviceParam wikibase:language \"en\" }\n",
    "    } ORDER BY ?wd ?statement ?ps_\"\"\""
   ]
  },
  {
   "cell_type": "code",
   "execution_count": 5,
   "metadata": {},
   "outputs": [],
   "source": [
    "data = get_results_requests(endpoint_url, query)\n",
    "with open('../output/Q76.json', 'w') as file:\n",
    "    json.dump(data, file)"
   ]
  },
  {
   "cell_type": "code",
   "execution_count": null,
   "metadata": {},
   "outputs": [],
   "source": []
  }
 ],
 "metadata": {
  "kernelspec": {
   "display_name": "Python 3",
   "language": "python",
   "name": "python3"
  },
  "language_info": {
   "codemirror_mode": {
    "name": "ipython",
    "version": 3
   },
   "file_extension": ".py",
   "mimetype": "text/x-python",
   "name": "python",
   "nbconvert_exporter": "python",
   "pygments_lexer": "ipython3",
   "version": "3.8.5"
  }
 },
 "nbformat": 4,
 "nbformat_minor": 4
}
